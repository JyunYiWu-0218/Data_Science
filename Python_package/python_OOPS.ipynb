{
 "cells": [
  {
   "cell_type": "code",
   "execution_count": 1,
   "id": "e45c3b4c-f552-4b4c-8fd2-818f0b879b5a",
   "metadata": {},
   "outputs": [
    {
     "name": "stdout",
     "output_type": "stream",
     "text": [
      "pee..........\n",
      "pee..........\n"
     ]
    },
    {
     "data": {
      "text/plain": [
       "'\\nclass method 必須傳入 class 本身作參數：即例子中的 cls ，這個參數的名稱理論上是可以自由命名的，但一般來說我們都會命名為 cls（代表class 縮寫），\\n就如同 instance method (一般 method)都會以 self 作為傳入 instance 參數的命名一樣。\\n\\n和 static method 一樣，class method 也可以由 instance call：在例子中 instance black_shiba 一樣可以 call .pee() 。\\n\\n和 static method 不同，class method 可以藉由 cls class 本身去 access class static members(variable/method)：\\n在這個例子中，pee_length 即為 class Shiba 的 static variable，所以 class method 可以利用 cls.pee_length 去 access 到 pee_length 。\\n但若是 static method 的話就無法了，static method 因為沒有 self 和 cls ，根本無法 access 放在外面的 static member，會直接噴 error。\\n'"
      ]
     },
     "execution_count": 1,
     "metadata": {},
     "output_type": "execute_result"
    }
   ],
   "source": [
    "#class method 講解\n",
    "class Shiba:\n",
    "    pee_length = 10\n",
    "\n",
    "    def __init__(self, height, weight):\n",
    "        self.height = height\n",
    "        self.weight = weight\n",
    "\n",
    "    @classmethod\n",
    "    def pee(cls):\n",
    "        print(\"pee\" + \".\" * cls.pee_length)\n",
    "\n",
    "\n",
    "\n",
    "Shiba.pee()\n",
    "#result: pee..........\n",
    "\n",
    "\n",
    "black_shiba = Shiba(30, 40)\n",
    "black_shiba.pee()\n",
    "#result: pee.........\n",
    "'''\n",
    "class method 必須傳入 class 本身作參數：即例子中的 cls ，這個參數的名稱理論上是可以自由命名的，但一般來說我們都會命名為 cls（代表class 縮寫），\n",
    "就如同 instance method (一般 method)都會以 self 作為傳入 instance 參數的命名一樣。\n",
    "\n",
    "和 static method 一樣，class method 也可以由 instance call：在例子中 instance black_shiba 一樣可以 call .pee() 。\n",
    "\n",
    "和 static method 不同，class method 可以藉由 cls class 本身去 access class static members(variable/method)：\n",
    "在這個例子中，pee_length 即為 class Shiba 的 static variable，所以 class method 可以利用 cls.pee_length 去 access 到 pee_length 。\n",
    "但若是 static method 的話就無法了，static method 因為沒有 self 和 cls ，根本無法 access 放在外面的 static member，會直接噴 error。\n",
    "'''\n"
   ]
  },
  {
   "cell_type": "code",
   "execution_count": 2,
   "id": "2ee9c845-ed1f-4ee6-a498-4626a2a08df0",
   "metadata": {},
   "outputs": [
    {
     "name": "stdout",
     "output_type": "stream",
     "text": [
      "I'm eating shit\n",
      "I'm peeing........\n"
     ]
    },
    {
     "data": {
      "text/plain": [
       "'\\n將 Dog 作為 interface ，讓 Shiba 以 inherit 的方式並且 override eat_shit() 和 pee() 這兩個 methods，這樣就達到實作 interface 的效果了！！！\\n\\ninterface(介面)：\\n介面的重點：\\n\\n介面中的資料成員必須設定初值\\n介面沒有一般函數，只有抽象函數\\n\\ninherit(繼承):\\n基於某個父類別對物件的定義加以擴充，而制訂出一個新的子類別定義，子類別可以繼承父類別原來的某些定義，\\n並也可能增加原來的父類別所沒有的定義，或者是重新定義父類別中的某些特性。\\n\\n'"
      ]
     },
     "execution_count": 2,
     "metadata": {},
     "output_type": "execute_result"
    }
   ],
   "source": [
    "#Abstract Method\n",
    "\"\"\"\n",
    "1. 什麼是 abstract method ?!\n",
    "來到要介紹的最後一種 method，abstract method。\n",
    "首先澄清一下，如果熟悉 Object Oriented 概念的人一定知道什麼是 polymorphism (多形)的概念，\n",
    "在 Java 上簡單來說就是以 interface 實現，而在 C++ 上是以 pure virtual function 實現。\n",
    "\n",
    "Polymorphism 是 OOP 中重要的 design ，有以下幾個最重要的優點：\n",
    "\n",
    "1.增加 programming 的維護性：\n",
    "使用 polymorphism 相當於把該 object 的接口都定義好，\n",
    "讓其他 object 在 inherit 或是 implement 時有一個「代辦清單」，而且是一個「定義嚴謹的代辦清單」（裡頭包含 input/output 的 type 等等）。\n",
    "\n",
    "2.減低 object 彼此的依賴度：\n",
    "舉例來說，原本 A 、B 和 C 三個 objects (classes) 都要實作 吃大便() 和 喝飲料() 這兩個 method，\n",
    "為了展現 A 、B 和 C是有關係的，所以會採用 inheritance 方式去實作，即 B inherits A，C inherits B，某天當 A 要做改變時，\n",
    "就會連帶影響 B 和 C。如果今天採用polymorphism 的方式設計，相當於「把結構從鏈狀、上下游的裙帶關係」轉成「只有一個控制中心而底下為平行關係」\n",
    "\n",
    "實現 abstract method 有兩種方式：\n",
    "一種較為寬鬆（只在 call method 時才去檢查 abstract method 是否已經被 implemented）。\n",
    "\n",
    "另一種較為嚴謹正規（在 class initialization 時即會檢查 abstract method 是否已經被實作）。\n",
    "\n",
    "\n",
    "如何建立 abstract methods 呢？\n",
    "先將 class 的 metaclass 設成 abc.ABCMeta ，並且直接在 method 上添加 @abc.abstractmethod 就可以將該 method 變成 abstract 了！\n",
    "（當我們在某個 method 上加 @abc.abstractmethod 時，預設為 abstract instance method 唷！）\n",
    "當我們在最後一行 code 中 initialize Shiba 這個 class 時，就會因為我們沒有 override abstract methods （去實現這個 abstract method）而噴 error。\n",
    "\"\"\"\n",
    "import abc\n",
    "\n",
    "\n",
    "class Dog(metaclass=abc.ABCMeta):\n",
    "    @abc.abstractmethod\n",
    "    def eat_shit(self):\n",
    "        return NotImplemented\n",
    "\n",
    "    @abc.abstractmethod\n",
    "    def pee(self):\n",
    "        return NotImplemented\n",
    "\n",
    "\n",
    "class Shiba(Dog):\n",
    "    def eat_shit(self):\n",
    "        print(\"I'm eating shit\".format())\n",
    "\n",
    "    def pee(self):\n",
    "        print(\"I'm peeing........\")\n",
    "\n",
    "\n",
    "Shiba().eat_shit()\n",
    "# Result > I'm eating shit\n",
    "\n",
    "Shiba().pee()\n",
    "# Result > I'm peeing........\n",
    "\"\"\"\n",
    "將 Dog 作為 interface ，讓 Shiba 以 inherit 的方式並且 override eat_shit() 和 pee() 這兩個 methods，這樣就達到實作 interface 的效果了！！！\n",
    "\n",
    "interface(介面)：\n",
    "介面的重點：\n",
    "\n",
    "介面中的資料成員必須設定初值\n",
    "介面沒有一般函數，只有抽象函數\n",
    "\n",
    "inherit(繼承):\n",
    "基於某個父類別對物件的定義加以擴充，而制訂出一個新的子類別定義，子類別可以繼承父類別原來的某些定義，\n",
    "並也可能增加原來的父類別所沒有的定義，或者是重新定義父類別中的某些特性。\n",
    "\n",
    "\"\"\""
   ]
  },
  {
   "cell_type": "code",
   "execution_count": 4,
   "id": "128a7468-7dcc-47a2-98f8-9a0f81ac9114",
   "metadata": {},
   "outputs": [
    {
     "name": "stdout",
     "output_type": "stream",
     "text": [
      "pee...\n",
      "pee....................\n",
      "pee..........\n"
     ]
    },
    {
     "data": {
      "text/plain": [
       "'\\n1.static method 不需要也不能將 instance 以參數 self 的方式傳入\\n\\n2.static method 可以由 class 直接 call 而不一定需要用到 instance call\\n\\n3.static method 也可以由 instance (例子中的 black_shiba) call，但是是不帶有 instance參數的。\\n'"
      ]
     },
     "execution_count": 4,
     "metadata": {},
     "output_type": "execute_result"
    }
   ],
   "source": [
    "#Static Method\n",
    "'''\n",
    "什麼是 static ?!\n",
    "以 Java 為例（對於大多數語言static的核心概念是相似的），\n",
    "一個 member 被宣告為 static 代表該 member 是在 Class Initialization 階段就被寫在一塊記憶體上，\n",
    "因為是發生在 Instance Initialization 前，所以理所當然不會帶有 instance，且該 static member 之參數必須也是 static的（不然根本拿不到）。\n",
    "而該 class 所生之所有 instances 皆可以使用該 static member 。\n",
    "\n",
    "總結，使用 static 的時機有：\n",
    "\n",
    "1.Design 意義上，希望某個 member independent of instance，不帶instance為參數，就會宣告該 member 為 static ，使 members 間的關係更加乾淨俐落。\n",
    "\n",
    "2.Design 意義上，希望某個 variable 是 static 的代表，想要該 class 所生之所有 instances 共用相同值的參數，作為 instances 間的溝通與合作。\n",
    "\n",
    "3.Physical 意義上，一個 static member 因為是只使用到一塊記憶體，故 instances 無論多寡，該 static member 所佔空間都不會增加。\n",
    "'''\n",
    "class Shiba:\n",
    "    def __init__(self, height, weight):\n",
    "        self.height = height\n",
    "        self.weight = weight\n",
    "\n",
    "    @staticmethod\n",
    "    def pee(length):\n",
    "        print(\"pee\" + \".\" * length)\n",
    "\n",
    "\n",
    "Shiba.pee(3)\n",
    "# Result > pee...\n",
    "\n",
    "Shiba.pee(20)\n",
    "# Result > pee....................\n",
    "\n",
    "black_shiba = Shiba(90, 40)\n",
    "black_shiba.pee(10)\n",
    "# Result > pee...........\n",
    "'''\n",
    "1.static method 不需要也不能將 instance 以參數 self 的方式傳入\n",
    "\n",
    "2.static method 可以由 class 直接 call 而不一定需要用到 instance call\n",
    "\n",
    "3.static method 也可以由 instance (例子中的 black_shiba) call，但是是不帶有 instance參數的。\n",
    "'''"
   ]
  },
  {
   "cell_type": "code",
   "execution_count": null,
   "id": "0434d0aa-ed62-4efe-8aaf-f666066898a5",
   "metadata": {},
   "outputs": [],
   "source": []
  }
 ],
 "metadata": {
  "kernelspec": {
   "display_name": "Python 3 (ipykernel)",
   "language": "python",
   "name": "python3"
  },
  "language_info": {
   "codemirror_mode": {
    "name": "ipython",
    "version": 3
   },
   "file_extension": ".py",
   "mimetype": "text/x-python",
   "name": "python",
   "nbconvert_exporter": "python",
   "pygments_lexer": "ipython3",
   "version": "3.9.16"
  }
 },
 "nbformat": 4,
 "nbformat_minor": 5
}
